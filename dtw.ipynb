{
  "nbformat": 4,
  "nbformat_minor": 0,
  "metadata": {
    "colab": {
      "provenance": []
    },
    "kernelspec": {
      "name": "python3",
      "display_name": "Python 3"
    },
    "language_info": {
      "name": "python"
    }
  },
  "cells": [
    {
      "cell_type": "markdown",
      "source": [
        "**Christou Nektarios - High Scale Analytics 2022-2023 NKUA**"
      ],
      "metadata": {
        "id": "kH7g--8b0XPL"
      }
    },
    {
      "cell_type": "code",
      "source": [
        "import numpy as np\n",
        "import pandas as pd\n",
        "import matplotlib.pyplot as plt"
      ],
      "metadata": {
        "id": "Kiww2UwfKFwi"
      },
      "execution_count": 1,
      "outputs": []
    },
    {
      "cell_type": "markdown",
      "source": [
        "The provided code contains functions for computing distances between sequences using Dynamic Time Warping (DTW). The `dtw` function computes the DTW distance between two sequences, allowing for variations in the time dimension to measure their similarity. The `dtw_window` function extends the DTW calculation by constraining alignment within a specified window, providing the DTW distance while considering the window size.\n"
      ],
      "metadata": {
        "id": "rkLZaZRLGR3s"
      }
    },
    {
      "cell_type": "code",
      "source": [
        "def euclidean_distance(vect_x, vect_y):\n",
        "    \"\"\"\n",
        "    Computes the Euclidean distance between two vectors vect_x and vect_y.\n",
        "    Args:\n",
        "    - vect_x: First vector\n",
        "    - vect_y: Second vector\n",
        "    Returns:\n",
        "    - Euclidean distance between vect_x and vect_y\n",
        "    \"\"\"\n",
        "    return np.sqrt(sum((y - x) ** 2 for x, y in zip(vect_x, vect_y)))\n",
        "\n",
        "\n",
        "def dtw(x, y):\n",
        "    \"\"\"\n",
        "    Computes the Dynamic Time Warping (DTW) distance between two sequences x and y.\n",
        "    DTW measures the similarity between two sequences accounting for variations in the time dimension.\n",
        "    Args:\n",
        "    - x: First sequence\n",
        "    - y: Second sequence\n",
        "    Returns:\n",
        "    - DTW distance between sequences x and y\n",
        "    \"\"\"\n",
        "    x = np.array(x[1:-1].split(\",\"), dtype=float)  # Transform x into an array\n",
        "    y = np.array(y[1:-1].split(\",\"), dtype=float)  # Transform y into an array\n",
        "\n",
        "    x_size, y_size = x.size, y.size  # Get sizes of sequences\n",
        "\n",
        "    # Initialize distance matrix with infinite values\n",
        "    D = np.zeros((x_size + 1, y_size + 1))\n",
        "    for i in range(x_size + 1):\n",
        "        for j in range(y_size + 1):\n",
        "            D[i, j] = np.inf\n",
        "    D[0, 0] = 0  # Set the starting point to 0\n",
        "\n",
        "    # Calculate cost matrix using the Euclidean distance\n",
        "    for i in range(1, x_size + 1):\n",
        "        for j in range(1, y_size + 1):\n",
        "            cost = euclidean_distance([x[i - 1]], [y[j - 1]])  # Calculate distance between elements\n",
        "            min_dist = np.min((D[i - 1, j], D[i, j - 1], D[i - 1, j - 1]))  # Find the minimum distance\n",
        "            D[i, j] = cost + min_dist  # Update the distance matrix\n",
        "\n",
        "    return D[x_size, y_size]  # Return the DTW distance\n",
        "\n",
        "\n",
        "def dtw_window(x, y, window):\n",
        "    \"\"\"\n",
        "    Computes the Dynamic Time Warping (DTW) distance between sequences x and y within a specified window.\n",
        "    DTW measures the similarity between sequences while limiting the alignment to a window.\n",
        "    Args:\n",
        "    - x: First sequence\n",
        "    - y: Second sequence\n",
        "    - window: Size of the window to constrain alignment\n",
        "    Returns:\n",
        "    - DTW distance between sequences x and y within the given window\n",
        "    \"\"\"\n",
        "    x = np.array(x[1:-1].split(\",\"), dtype=float)  # Transform x into an array\n",
        "    y = np.array(y[1:-1].split(\",\"), dtype=float)  # Transform y into an array\n",
        "\n",
        "    x_size, y_size = x.size, y.size  # Get sizes of sequences\n",
        "\n",
        "    w = np.max([window, abs(x_size - y_size)])  # Calculate the window size\n",
        "\n",
        "    # Initialize distance matrix with infinite values\n",
        "    D = np.zeros((x_size + 1, y_size + 1))\n",
        "    for i in range(x_size + 1):\n",
        "        for j in range(y_size + 1):\n",
        "            D[i, j] = np.inf\n",
        "    D[0, 0] = 0  # Set the starting point to 0\n",
        "\n",
        "    # Initialize the border of the matrix within the window\n",
        "    for i in range(1, x_size + 1):\n",
        "        for j in range(np.max([1, i - w]), np.min([y_size, i + w]) + 1):\n",
        "            D[i, j] = 0\n",
        "\n",
        "    # Calculate cost matrix within the window using the Euclidean distance\n",
        "    for i in range(1, x_size + 1):\n",
        "        for j in range(np.max([1, i - w]), np.min([y_size, i + w]) + 1):\n",
        "            cost = euclidean_distance([x[i - 1]], [y[j - 1]])  # Calculate distance between elements\n",
        "            min_dist = np.min((D[i - 1, j], D[i, j - 1], D[i - 1, j - 1]))  # Find the minimum distance\n",
        "            D[i, j] = cost + min_dist  # Update the distance matrix\n",
        "\n",
        "    return D[x_size, y_size]  # Return the DTW distance within the window\n"
      ],
      "metadata": {
        "id": "RIdZHG2wCCy1"
      },
      "execution_count": 2,
      "outputs": []
    },
    {
      "cell_type": "markdown",
      "source": [
        "# Usage"
      ],
      "metadata": {
        "id": "Yf1WBYirpFYV"
      }
    },
    {
      "cell_type": "code",
      "source": [
        "# Load dataset\n",
        "data = pd.read_csv('./dataset/dtw_test.csv')\n",
        "print(\"Shape of data: \", data.shape)"
      ],
      "metadata": {
        "colab": {
          "base_uri": "https://localhost:8080/"
        },
        "id": "Q0I8iafsCFhD",
        "outputId": "4f450172-47d0-4709-bb0d-2ff3e082b151"
      },
      "execution_count": 3,
      "outputs": [
        {
          "output_type": "stream",
          "name": "stdout",
          "text": [
            "Shape of data:  (1002, 3)\n"
          ]
        }
      ]
    },
    {
      "cell_type": "code",
      "source": [
        "data.head()"
      ],
      "metadata": {
        "colab": {
          "base_uri": "https://localhost:8080/",
          "height": 206
        },
        "id": "seBck4MTwcCA",
        "outputId": "6d653475-e81b-469d-8c5c-d4712426710e"
      },
      "execution_count": 4,
      "outputs": [
        {
          "output_type": "execute_result",
          "data": {
            "text/plain": [
              "   id                                           series_a  \\\n",
              "0   0  [75.125, 75.32, 75.06, 74.88, 74.92, 74.83, 75...   \n",
              "1   1  [26.0, 25.995, 25.8307, 25.85, 26.0, 26.0, 26....   \n",
              "2   2  [60.23, 60.1, 59.8589, 60.01, 60.19, 60.08, 60...   \n",
              "3   3  [28.4, 28.65, 28.75, 28.65, 28.7099, 28.8, 28....   \n",
              "4   4  [4.98, 4.95, 4.88, 4.91, 4.93, 4.9, 4.9, 4.9, ...   \n",
              "\n",
              "                                            series_b  \n",
              "0  [75.125, 75.32, 74.88, 74.92, 74.83, 75.0, 74....  \n",
              "1  [26.0, 25.8307, 26.0, 26.0, 26.0, 26.1471, 26....  \n",
              "2  [59.8589, 60.19, 60.4, 60.59, 60.27, 60.23, 60...  \n",
              "3  [28.4, 28.65, 28.7099, 29.0, 29.0651, 28.8, 28...  \n",
              "4  [4.91, 4.93, 4.9, 4.9, 4.9132, 4.9344, 4.9155,...  "
            ],
            "text/html": [
              "\n",
              "  <div id=\"df-3f2d560f-8d05-44cf-b7d3-74025dbd0e2c\" class=\"colab-df-container\">\n",
              "    <div>\n",
              "<style scoped>\n",
              "    .dataframe tbody tr th:only-of-type {\n",
              "        vertical-align: middle;\n",
              "    }\n",
              "\n",
              "    .dataframe tbody tr th {\n",
              "        vertical-align: top;\n",
              "    }\n",
              "\n",
              "    .dataframe thead th {\n",
              "        text-align: right;\n",
              "    }\n",
              "</style>\n",
              "<table border=\"1\" class=\"dataframe\">\n",
              "  <thead>\n",
              "    <tr style=\"text-align: right;\">\n",
              "      <th></th>\n",
              "      <th>id</th>\n",
              "      <th>series_a</th>\n",
              "      <th>series_b</th>\n",
              "    </tr>\n",
              "  </thead>\n",
              "  <tbody>\n",
              "    <tr>\n",
              "      <th>0</th>\n",
              "      <td>0</td>\n",
              "      <td>[75.125, 75.32, 75.06, 74.88, 74.92, 74.83, 75...</td>\n",
              "      <td>[75.125, 75.32, 74.88, 74.92, 74.83, 75.0, 74....</td>\n",
              "    </tr>\n",
              "    <tr>\n",
              "      <th>1</th>\n",
              "      <td>1</td>\n",
              "      <td>[26.0, 25.995, 25.8307, 25.85, 26.0, 26.0, 26....</td>\n",
              "      <td>[26.0, 25.8307, 26.0, 26.0, 26.0, 26.1471, 26....</td>\n",
              "    </tr>\n",
              "    <tr>\n",
              "      <th>2</th>\n",
              "      <td>2</td>\n",
              "      <td>[60.23, 60.1, 59.8589, 60.01, 60.19, 60.08, 60...</td>\n",
              "      <td>[59.8589, 60.19, 60.4, 60.59, 60.27, 60.23, 60...</td>\n",
              "    </tr>\n",
              "    <tr>\n",
              "      <th>3</th>\n",
              "      <td>3</td>\n",
              "      <td>[28.4, 28.65, 28.75, 28.65, 28.7099, 28.8, 28....</td>\n",
              "      <td>[28.4, 28.65, 28.7099, 29.0, 29.0651, 28.8, 28...</td>\n",
              "    </tr>\n",
              "    <tr>\n",
              "      <th>4</th>\n",
              "      <td>4</td>\n",
              "      <td>[4.98, 4.95, 4.88, 4.91, 4.93, 4.9, 4.9, 4.9, ...</td>\n",
              "      <td>[4.91, 4.93, 4.9, 4.9, 4.9132, 4.9344, 4.9155,...</td>\n",
              "    </tr>\n",
              "  </tbody>\n",
              "</table>\n",
              "</div>\n",
              "    <div class=\"colab-df-buttons\">\n",
              "\n",
              "  <div class=\"colab-df-container\">\n",
              "    <button class=\"colab-df-convert\" onclick=\"convertToInteractive('df-3f2d560f-8d05-44cf-b7d3-74025dbd0e2c')\"\n",
              "            title=\"Convert this dataframe to an interactive table.\"\n",
              "            style=\"display:none;\">\n",
              "\n",
              "  <svg xmlns=\"http://www.w3.org/2000/svg\" height=\"24px\" viewBox=\"0 -960 960 960\">\n",
              "    <path d=\"M120-120v-720h720v720H120Zm60-500h600v-160H180v160Zm220 220h160v-160H400v160Zm0 220h160v-160H400v160ZM180-400h160v-160H180v160Zm440 0h160v-160H620v160ZM180-180h160v-160H180v160Zm440 0h160v-160H620v160Z\"/>\n",
              "  </svg>\n",
              "    </button>\n",
              "\n",
              "  <style>\n",
              "    .colab-df-container {\n",
              "      display:flex;\n",
              "      gap: 12px;\n",
              "    }\n",
              "\n",
              "    .colab-df-convert {\n",
              "      background-color: #E8F0FE;\n",
              "      border: none;\n",
              "      border-radius: 50%;\n",
              "      cursor: pointer;\n",
              "      display: none;\n",
              "      fill: #1967D2;\n",
              "      height: 32px;\n",
              "      padding: 0 0 0 0;\n",
              "      width: 32px;\n",
              "    }\n",
              "\n",
              "    .colab-df-convert:hover {\n",
              "      background-color: #E2EBFA;\n",
              "      box-shadow: 0px 1px 2px rgba(60, 64, 67, 0.3), 0px 1px 3px 1px rgba(60, 64, 67, 0.15);\n",
              "      fill: #174EA6;\n",
              "    }\n",
              "\n",
              "    .colab-df-buttons div {\n",
              "      margin-bottom: 4px;\n",
              "    }\n",
              "\n",
              "    [theme=dark] .colab-df-convert {\n",
              "      background-color: #3B4455;\n",
              "      fill: #D2E3FC;\n",
              "    }\n",
              "\n",
              "    [theme=dark] .colab-df-convert:hover {\n",
              "      background-color: #434B5C;\n",
              "      box-shadow: 0px 1px 3px 1px rgba(0, 0, 0, 0.15);\n",
              "      filter: drop-shadow(0px 1px 2px rgba(0, 0, 0, 0.3));\n",
              "      fill: #FFFFFF;\n",
              "    }\n",
              "  </style>\n",
              "\n",
              "    <script>\n",
              "      const buttonEl =\n",
              "        document.querySelector('#df-3f2d560f-8d05-44cf-b7d3-74025dbd0e2c button.colab-df-convert');\n",
              "      buttonEl.style.display =\n",
              "        google.colab.kernel.accessAllowed ? 'block' : 'none';\n",
              "\n",
              "      async function convertToInteractive(key) {\n",
              "        const element = document.querySelector('#df-3f2d560f-8d05-44cf-b7d3-74025dbd0e2c');\n",
              "        const dataTable =\n",
              "          await google.colab.kernel.invokeFunction('convertToInteractive',\n",
              "                                                    [key], {});\n",
              "        if (!dataTable) return;\n",
              "\n",
              "        const docLinkHtml = 'Like what you see? Visit the ' +\n",
              "          '<a target=\"_blank\" href=https://colab.research.google.com/notebooks/data_table.ipynb>data table notebook</a>'\n",
              "          + ' to learn more about interactive tables.';\n",
              "        element.innerHTML = '';\n",
              "        dataTable['output_type'] = 'display_data';\n",
              "        await google.colab.output.renderOutput(dataTable, element);\n",
              "        const docLink = document.createElement('div');\n",
              "        docLink.innerHTML = docLinkHtml;\n",
              "        element.appendChild(docLink);\n",
              "      }\n",
              "    </script>\n",
              "  </div>\n",
              "\n",
              "\n",
              "<div id=\"df-ecc0b7a8-b10f-40a9-b650-6d1153aa9f16\">\n",
              "  <button class=\"colab-df-quickchart\" onclick=\"quickchart('df-ecc0b7a8-b10f-40a9-b650-6d1153aa9f16')\"\n",
              "            title=\"Suggest charts\"\n",
              "            style=\"display:none;\">\n",
              "\n",
              "<svg xmlns=\"http://www.w3.org/2000/svg\" height=\"24px\"viewBox=\"0 0 24 24\"\n",
              "     width=\"24px\">\n",
              "    <g>\n",
              "        <path d=\"M19 3H5c-1.1 0-2 .9-2 2v14c0 1.1.9 2 2 2h14c1.1 0 2-.9 2-2V5c0-1.1-.9-2-2-2zM9 17H7v-7h2v7zm4 0h-2V7h2v10zm4 0h-2v-4h2v4z\"/>\n",
              "    </g>\n",
              "</svg>\n",
              "  </button>\n",
              "\n",
              "<style>\n",
              "  .colab-df-quickchart {\n",
              "      --bg-color: #E8F0FE;\n",
              "      --fill-color: #1967D2;\n",
              "      --hover-bg-color: #E2EBFA;\n",
              "      --hover-fill-color: #174EA6;\n",
              "      --disabled-fill-color: #AAA;\n",
              "      --disabled-bg-color: #DDD;\n",
              "  }\n",
              "\n",
              "  [theme=dark] .colab-df-quickchart {\n",
              "      --bg-color: #3B4455;\n",
              "      --fill-color: #D2E3FC;\n",
              "      --hover-bg-color: #434B5C;\n",
              "      --hover-fill-color: #FFFFFF;\n",
              "      --disabled-bg-color: #3B4455;\n",
              "      --disabled-fill-color: #666;\n",
              "  }\n",
              "\n",
              "  .colab-df-quickchart {\n",
              "    background-color: var(--bg-color);\n",
              "    border: none;\n",
              "    border-radius: 50%;\n",
              "    cursor: pointer;\n",
              "    display: none;\n",
              "    fill: var(--fill-color);\n",
              "    height: 32px;\n",
              "    padding: 0;\n",
              "    width: 32px;\n",
              "  }\n",
              "\n",
              "  .colab-df-quickchart:hover {\n",
              "    background-color: var(--hover-bg-color);\n",
              "    box-shadow: 0 1px 2px rgba(60, 64, 67, 0.3), 0 1px 3px 1px rgba(60, 64, 67, 0.15);\n",
              "    fill: var(--button-hover-fill-color);\n",
              "  }\n",
              "\n",
              "  .colab-df-quickchart-complete:disabled,\n",
              "  .colab-df-quickchart-complete:disabled:hover {\n",
              "    background-color: var(--disabled-bg-color);\n",
              "    fill: var(--disabled-fill-color);\n",
              "    box-shadow: none;\n",
              "  }\n",
              "\n",
              "  .colab-df-spinner {\n",
              "    border: 2px solid var(--fill-color);\n",
              "    border-color: transparent;\n",
              "    border-bottom-color: var(--fill-color);\n",
              "    animation:\n",
              "      spin 1s steps(1) infinite;\n",
              "  }\n",
              "\n",
              "  @keyframes spin {\n",
              "    0% {\n",
              "      border-color: transparent;\n",
              "      border-bottom-color: var(--fill-color);\n",
              "      border-left-color: var(--fill-color);\n",
              "    }\n",
              "    20% {\n",
              "      border-color: transparent;\n",
              "      border-left-color: var(--fill-color);\n",
              "      border-top-color: var(--fill-color);\n",
              "    }\n",
              "    30% {\n",
              "      border-color: transparent;\n",
              "      border-left-color: var(--fill-color);\n",
              "      border-top-color: var(--fill-color);\n",
              "      border-right-color: var(--fill-color);\n",
              "    }\n",
              "    40% {\n",
              "      border-color: transparent;\n",
              "      border-right-color: var(--fill-color);\n",
              "      border-top-color: var(--fill-color);\n",
              "    }\n",
              "    60% {\n",
              "      border-color: transparent;\n",
              "      border-right-color: var(--fill-color);\n",
              "    }\n",
              "    80% {\n",
              "      border-color: transparent;\n",
              "      border-right-color: var(--fill-color);\n",
              "      border-bottom-color: var(--fill-color);\n",
              "    }\n",
              "    90% {\n",
              "      border-color: transparent;\n",
              "      border-bottom-color: var(--fill-color);\n",
              "    }\n",
              "  }\n",
              "</style>\n",
              "\n",
              "  <script>\n",
              "    async function quickchart(key) {\n",
              "      const quickchartButtonEl =\n",
              "        document.querySelector('#' + key + ' button');\n",
              "      quickchartButtonEl.disabled = true;  // To prevent multiple clicks.\n",
              "      quickchartButtonEl.classList.add('colab-df-spinner');\n",
              "      try {\n",
              "        const charts = await google.colab.kernel.invokeFunction(\n",
              "            'suggestCharts', [key], {});\n",
              "      } catch (error) {\n",
              "        console.error('Error during call to suggestCharts:', error);\n",
              "      }\n",
              "      quickchartButtonEl.classList.remove('colab-df-spinner');\n",
              "      quickchartButtonEl.classList.add('colab-df-quickchart-complete');\n",
              "    }\n",
              "    (() => {\n",
              "      let quickchartButtonEl =\n",
              "        document.querySelector('#df-ecc0b7a8-b10f-40a9-b650-6d1153aa9f16 button');\n",
              "      quickchartButtonEl.style.display =\n",
              "        google.colab.kernel.accessAllowed ? 'block' : 'none';\n",
              "    })();\n",
              "  </script>\n",
              "</div>\n",
              "    </div>\n",
              "  </div>\n"
            ]
          },
          "metadata": {},
          "execution_count": 4
        }
      ]
    },
    {
      "cell_type": "code",
      "source": [
        "# Plot the first two time series to see how they compare with each other\n",
        "series_a_idx = 0\n",
        "series_b_idx = 0\n",
        "\n",
        "x = np.array(data.loc[series_a_idx,\"series_a\"][1:-1].split(\",\"), dtype=float)\n",
        "y = np.array(data.loc[series_b_idx,\"series_b\"][1:-1].split(\",\"), dtype=float)\n",
        "\n",
        "plt.plot(x, label=\"series a\")\n",
        "plt.plot(y, label=\"series b\")\n",
        "\n",
        "plt.legend()\n",
        "plt.show()"
      ],
      "metadata": {
        "colab": {
          "base_uri": "https://localhost:8080/",
          "height": 430
        },
        "id": "nWJmcuswDoCa",
        "outputId": "cafbb728-f320-4e2f-8a59-99c502c5fba2"
      },
      "execution_count": 5,
      "outputs": [
        {
          "output_type": "display_data",
          "data": {
            "text/plain": [
              "<Figure size 640x480 with 1 Axes>"
            ],
            "image/png": "[encoded data removed]"
          },
          "metadata": {}
        }
      ]
    },
    {
      "cell_type": "markdown",
      "source": [
        "The distance calculated from both created functions are pretty much the same. Of course, this varies depending on the window size."
      ],
      "metadata": {
        "id": "RN4Bxf-bu1kc"
      }
    },
    {
      "cell_type": "code",
      "source": [
        "# Get the distance for two time series\n",
        "x = data.loc[0,\"series_a\"]\n",
        "y = data.loc[0,\"series_b\"]\n",
        "dist_xy = dtw(x,y)\n",
        "print(f\"Distance of x-y {dist_xy}\")"
      ],
      "metadata": {
        "colab": {
          "base_uri": "https://localhost:8080/"
        },
        "id": "5-5twcDZCFUy",
        "outputId": "e6626816-3e87-4dd6-e49c-6f3c3484e522"
      },
      "execution_count": 6,
      "outputs": [
        {
          "output_type": "stream",
          "name": "stdout",
          "text": [
            "Distance of x-y 18.875199999999992\n"
          ]
        }
      ]
    },
    {
      "cell_type": "code",
      "source": [
        "# Get the distance for two time series with the window method\n",
        "x = data.loc[0,\"series_a\"]\n",
        "y = data.loc[0,\"series_b\"]\n",
        "dist_xy = dtw_window(x,y,5)\n",
        "print(f\"Distance of x-y {dist_xy}\")"
      ],
      "metadata": {
        "colab": {
          "base_uri": "https://localhost:8080/"
        },
        "id": "bGPBbOfWEkpZ",
        "outputId": "1e83a388-4eae-471c-dd87-75aef602c3c7"
      },
      "execution_count": 7,
      "outputs": [
        {
          "output_type": "stream",
          "name": "stdout",
          "text": [
            "Distance of x-y 18.875199999999992\n"
          ]
        }
      ]
    },
    {
      "cell_type": "markdown",
      "source": [
        "Calculate the DTW distance of each pair of series:"
      ],
      "metadata": {
        "id": "qoY33_vezbeQ"
      }
    },
    {
      "cell_type": "code",
      "source": [
        "results = pd.DataFrame(columns=['results_dtw', 'results_dtw_window'])\n",
        "\n",
        "# Calculate the DTW distance of each pair of series with the window constraint\n",
        "window = 5\n",
        "results[\"results_dtw\"] = data[[\"series_a\",\"series_b\"]].apply(\n",
        "    lambda x: dtw_window(x[\"series_a\"], x[\"series_b\"], window=window), axis=1)\n",
        "\n",
        "# Calculate the DTW distance of each pair of series without the window constaint\n",
        "results[\"results_dtw_window\"] = data[[\"series_a\",\"series_b\"]].apply(\n",
        "    lambda x: dtw(x[\"series_a\"], x[\"series_b\"]), axis=1)"
      ],
      "metadata": {
        "id": "H46xGKFQEqeS"
      },
      "execution_count": 8,
      "outputs": []
    }
  ]
}